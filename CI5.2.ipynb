{
 "cells": [
  {
   "cell_type": "code",
   "execution_count": 3,
   "metadata": {},
   "outputs": [
    {
     "name": "stdout",
     "output_type": "stream",
     "text": [
      "Collecting deap\n",
      "  Downloading deap-1.4.1-cp310-cp310-win_amd64.whl.metadata (13 kB)\n",
      "Requirement already satisfied: numpy in c:\\users\\sanja\\appdata\\local\\programs\\python\\python310\\lib\\site-packages (from deap) (1.26.4)\n",
      "Downloading deap-1.4.1-cp310-cp310-win_amd64.whl (109 kB)\n",
      "   ---------------------------------------- 0.0/109.3 kB ? eta -:--:--\n",
      "   ---------------------------------------- 109.3/109.3 kB 6.6 MB/s eta 0:00:00\n",
      "Installing collected packages: deap\n",
      "Successfully installed deap-1.4.1\n"
     ]
    }
   ],
   "source": [
    "!pip install deap"
   ]
  },
  {
   "cell_type": "code",
   "execution_count": 4,
   "metadata": {},
   "outputs": [],
   "source": [
    "import random\n",
    "from deap import base, creator, tools, algorithms\n",
    "import numpy as np\n",
    "import pandas as pd\n"
   ]
  },
  {
   "cell_type": "code",
   "execution_count": 5,
   "metadata": {},
   "outputs": [
    {
     "name": "stdout",
     "output_type": "stream",
     "text": [
      "   Inlet Air Temperature (°C)  Inlet Air Humidity (%)  \\\n",
      "0                  168.333514               64.092543   \n",
      "1                  172.683103               53.217140   \n",
      "2                  165.892649               67.421686   \n",
      "3                  159.300431               45.922626   \n",
      "4                  175.640701               60.218926   \n",
      "\n",
      "   Feed Flow Rate (mL/min)  Atomization Pressure (bar)  \\\n",
      "0                73.014639                   10.970004   \n",
      "1               156.521241                   12.810047   \n",
      "2               160.762925                   15.234965   \n",
      "3               163.476402                   13.945703   \n",
      "4               114.957519                   14.076866   \n",
      "\n",
      "   Coconut Milk Solids Content (%)  Moisture Content of Dried Powder (%)  \\\n",
      "0                        15.525258                              2.830684   \n",
      "1                        13.124299                              1.917562   \n",
      "2                        12.172767                              1.889116   \n",
      "3                        16.187786                              2.813902   \n",
      "4                        18.304247                              4.911446   \n",
      "\n",
      "   Particle Size Distribution (μm)  \n",
      "0                        76.023503  \n",
      "1                        93.989283  \n",
      "2                        35.551253  \n",
      "3                        66.538729  \n",
      "4                        75.835543  \n"
     ]
    }
   ],
   "source": [
    "import pandas as pd\n",
    "import numpy as np\n",
    "\n",
    "# Define the number of samples\n",
    "num_samples = 1000\n",
    "\n",
    "# Define ranges for each variable\n",
    "ranges = {\n",
    "    'Inlet Air Temperature (°C)': (150, 250),\n",
    "    'Inlet Air Humidity (%)': (30, 80),\n",
    "    'Feed Flow Rate (mL/min)': (50, 200),\n",
    "    'Atomization Pressure (bar)': (5, 20),\n",
    "    'Coconut Milk Solids Content (%)': (10, 20),\n",
    "    'Moisture Content of Dried Powder (%)': (1, 5),\n",
    "    'Particle Size Distribution (μm)': (10, 100)\n",
    "}\n",
    "\n",
    "# Generate random data within defined ranges\n",
    "data = {}\n",
    "for var, (min_val, max_val) in ranges.items():\n",
    "    data[var] = np.random.uniform(min_val, max_val, num_samples)\n",
    "\n",
    "# Create a DataFrame from the generated data\n",
    "df = pd.DataFrame(data)\n",
    "\n",
    "# Display the first few rows of the dataset\n",
    "print(df.head())\n",
    "\n",
    "# Save the dataset to a CSV file\n",
    "df.to_csv('sample_dataset.csv', index=False)\n"
   ]
  },
  {
   "cell_type": "code",
   "execution_count": 6,
   "metadata": {},
   "outputs": [],
   "source": [
    "# Load the dataset\n",
    "df = pd.read_csv(\"sample_dataset.csv\")\n"
   ]
  },
  {
   "cell_type": "code",
   "execution_count": 7,
   "metadata": {},
   "outputs": [],
   "source": [
    "# Define evaluation function for the hybrid model\n",
    "def evaluate(individual):\n",
    "    # Extract parameters from the individual (e.g., neural network architecture parameters)\n",
    "    num_neurons, num_layers = individual\n",
    "\n",
    "    # Split the dataset into features (X) and target (y)\n",
    "    X = df.drop(columns=[\"Moisture Content of Dried Powder (%)\", \"Particle Size Distribution (μm)\"])\n",
    "    y = df[\"Moisture Content of Dried Powder (%)\"]\n",
    "\n",
    "    # Train-test split\n",
    "    from sklearn.model_selection import train_test_split\n",
    "    X_train, X_test, y_train, y_test = train_test_split(X, y, test_size=0.2, random_state=42)\n",
    "\n",
    "    # Define and compile the neural network model\n",
    "    import tensorflow as tf\n",
    "    from tensorflow.keras.models import Sequential\n",
    "    from tensorflow.keras.layers import Dense\n",
    "\n",
    "    model = Sequential()\n",
    "    model.add(Dense(num_neurons, input_dim=X_train.shape[1], activation='relu'))\n",
    "    for _ in range(num_layers - 1):\n",
    "        model.add(Dense(num_neurons, activation='relu'))\n",
    "    model.add(Dense(1))  # Output layer with a single neuron for regression\n",
    "    model.compile(optimizer='adam', loss='mean_squared_error')\n",
    "\n",
    "    # Train the model\n",
    "    model.fit(X_train, y_train, epochs=10, batch_size=32, verbose=0)\n",
    "\n",
    "    # Evaluate the model\n",
    "    mse = model.evaluate(X_test, y_test, verbose=0)\n",
    "    fitness = 1 / (1 + mse)  # Higher fitness for lower MSE (better performance)\n",
    "\n",
    "    return fitness,"
   ]
  },
  {
   "cell_type": "code",
   "execution_count": 8,
   "metadata": {},
   "outputs": [],
   "source": [
    "# Define genetic algorithm parameters\n",
    "POPULATION_SIZE = 10\n",
    "GENERATIONS = 1"
   ]
  },
  {
   "cell_type": "code",
   "execution_count": 9,
   "metadata": {},
   "outputs": [
    {
     "name": "stderr",
     "output_type": "stream",
     "text": [
      "c:\\Users\\sanja\\AppData\\Local\\Programs\\Python\\Python310\\lib\\site-packages\\keras\\src\\layers\\core\\dense.py:88: UserWarning: Do not pass an `input_shape`/`input_dim` argument to a layer. When using Sequential models, prefer using an `Input(shape)` object as the first layer in the model instead.\n",
      "  super().__init__(activity_regularizer=activity_regularizer, **kwargs)\n",
      "c:\\Users\\sanja\\AppData\\Local\\Programs\\Python\\Python310\\lib\\site-packages\\keras\\src\\layers\\core\\dense.py:88: UserWarning: Do not pass an `input_shape`/`input_dim` argument to a layer. When using Sequential models, prefer using an `Input(shape)` object as the first layer in the model instead.\n",
      "  super().__init__(activity_regularizer=activity_regularizer, **kwargs)\n",
      "c:\\Users\\sanja\\AppData\\Local\\Programs\\Python\\Python310\\lib\\site-packages\\keras\\src\\layers\\core\\dense.py:88: UserWarning: Do not pass an `input_shape`/`input_dim` argument to a layer. When using Sequential models, prefer using an `Input(shape)` object as the first layer in the model instead.\n",
      "  super().__init__(activity_regularizer=activity_regularizer, **kwargs)\n",
      "c:\\Users\\sanja\\AppData\\Local\\Programs\\Python\\Python310\\lib\\site-packages\\keras\\src\\layers\\core\\dense.py:88: UserWarning: Do not pass an `input_shape`/`input_dim` argument to a layer. When using Sequential models, prefer using an `Input(shape)` object as the first layer in the model instead.\n",
      "  super().__init__(activity_regularizer=activity_regularizer, **kwargs)\n",
      "c:\\Users\\sanja\\AppData\\Local\\Programs\\Python\\Python310\\lib\\site-packages\\keras\\src\\layers\\core\\dense.py:88: UserWarning: Do not pass an `input_shape`/`input_dim` argument to a layer. When using Sequential models, prefer using an `Input(shape)` object as the first layer in the model instead.\n",
      "  super().__init__(activity_regularizer=activity_regularizer, **kwargs)\n",
      "c:\\Users\\sanja\\AppData\\Local\\Programs\\Python\\Python310\\lib\\site-packages\\keras\\src\\layers\\core\\dense.py:88: UserWarning: Do not pass an `input_shape`/`input_dim` argument to a layer. When using Sequential models, prefer using an `Input(shape)` object as the first layer in the model instead.\n",
      "  super().__init__(activity_regularizer=activity_regularizer, **kwargs)\n",
      "c:\\Users\\sanja\\AppData\\Local\\Programs\\Python\\Python310\\lib\\site-packages\\keras\\src\\layers\\core\\dense.py:88: UserWarning: Do not pass an `input_shape`/`input_dim` argument to a layer. When using Sequential models, prefer using an `Input(shape)` object as the first layer in the model instead.\n",
      "  super().__init__(activity_regularizer=activity_regularizer, **kwargs)\n",
      "c:\\Users\\sanja\\AppData\\Local\\Programs\\Python\\Python310\\lib\\site-packages\\keras\\src\\layers\\core\\dense.py:88: UserWarning: Do not pass an `input_shape`/`input_dim` argument to a layer. When using Sequential models, prefer using an `Input(shape)` object as the first layer in the model instead.\n",
      "  super().__init__(activity_regularizer=activity_regularizer, **kwargs)\n",
      "c:\\Users\\sanja\\AppData\\Local\\Programs\\Python\\Python310\\lib\\site-packages\\keras\\src\\layers\\core\\dense.py:88: UserWarning: Do not pass an `input_shape`/`input_dim` argument to a layer. When using Sequential models, prefer using an `Input(shape)` object as the first layer in the model instead.\n",
      "  super().__init__(activity_regularizer=activity_regularizer, **kwargs)\n",
      "c:\\Users\\sanja\\AppData\\Local\\Programs\\Python\\Python310\\lib\\site-packages\\keras\\src\\layers\\core\\dense.py:88: UserWarning: Do not pass an `input_shape`/`input_dim` argument to a layer. When using Sequential models, prefer using an `Input(shape)` object as the first layer in the model instead.\n",
      "  super().__init__(activity_regularizer=activity_regularizer, **kwargs)\n"
     ]
    }
   ],
   "source": [
    "# Create types for fitness and individuals in the genetic algorithm\n",
    "creator.create(\"FitnessMax\", base.Fitness, weights=(1.0,))\n",
    "creator.create(\"Individual\", list, fitness=creator.FitnessMax)\n",
    "\n",
    "# Initialize toolbox\n",
    "toolbox = base.Toolbox()\n",
    "\n",
    "# Define attribute generators for the individual (neural network architecture parameters)\n",
    "toolbox.register(\"attr_neurons\", random.randint, 1, 100)\n",
    "toolbox.register(\"attr_layers\", random.randint, 1, 5)\n",
    "\n",
    "# Define individual and population creation methods\n",
    "toolbox.register(\"individual\", tools.initCycle, creator.Individual, (toolbox.attr_neurons, toolbox.attr_layers), n=1)\n",
    "toolbox.register(\"population\", tools.initRepeat, list, toolbox.individual)\n",
    "\n",
    "# Genetic operators\n",
    "toolbox.register(\"evaluate\", evaluate)\n",
    "toolbox.register(\"mate\", tools.cxTwoPoint)\n",
    "toolbox.register(\"mutate\", tools.mutUniformInt, low=1, up=100, indpb=0.2)\n",
    "toolbox.register(\"select\", tools.selTournament, tournsize=3)\n",
    "\n",
    "# Create initial population\n",
    "population = toolbox.population(n=POPULATION_SIZE)\n",
    "\n",
    "# Run the genetic algorithm\n",
    "for gen in range(GENERATIONS):\n",
    "    offspring = algorithms.varAnd(population, toolbox, cxpb=0.5, mutpb=0.1)\n",
    "\n",
    "    fitnesses = toolbox.map(toolbox.evaluate, offspring)\n",
    "    for ind, fit in zip(offspring, fitnesses):\n",
    "        ind.fitness.values = fit\n",
    "\n",
    "    population = toolbox.select(offspring, k=len(population))"
   ]
  },
  {
   "cell_type": "code",
   "execution_count": 10,
   "metadata": {},
   "outputs": [
    {
     "name": "stdout",
     "output_type": "stream",
     "text": [
      "Best Parameters: [50, 5]\n"
     ]
    }
   ],
   "source": [
    "# Extract the best individual (best model parameters)\n",
    "best_individual = tools.selBest(population, k=1)[0]\n",
    "best_params = best_individual\n",
    "\n",
    "print(\"Best Parameters:\", best_params)\n"
   ]
  },
  {
   "cell_type": "code",
   "execution_count": null,
   "metadata": {},
   "outputs": [],
   "source": []
  }
 ],
 "metadata": {
  "kernelspec": {
   "display_name": "Python 3",
   "language": "python",
   "name": "python3"
  },
  "language_info": {
   "codemirror_mode": {
    "name": "ipython",
    "version": 3
   },
   "file_extension": ".py",
   "mimetype": "text/x-python",
   "name": "python",
   "nbconvert_exporter": "python",
   "pygments_lexer": "ipython3",
   "version": "3.10.6"
  }
 },
 "nbformat": 4,
 "nbformat_minor": 2
}
