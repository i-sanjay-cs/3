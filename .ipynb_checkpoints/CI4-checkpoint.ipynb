{
 "cells": [
  {
   "cell_type": "code",
   "execution_count": 21,
   "id": "f565774d",
   "metadata": {},
   "outputs": [],
   "source": [
    "A = dict()\n",
    "B = dict()\n",
    "C = dict()\n",
    "\n",
    "A = {\"a\":0.2,\"b\":0.5,\"c\":0.6,\"d\":0.3}\n",
    "B = {\"a\":0.8,\"b\":0.1,\"c\":0.4,\"d\":0.7}"
   ]
  },
  {
   "cell_type": "code",
   "execution_count": 22,
   "id": "1fd84e1f",
   "metadata": {},
   "outputs": [
    {
     "name": "stdout",
     "output_type": "stream",
     "text": [
      "The Fuzzy Set A is : {'a': 0.2, 'b': 0.5, 'c': 0.6, 'd': 0.3}\n"
     ]
    }
   ],
   "source": [
    "print(\"The Fuzzy Set A is :\",A)"
   ]
  },
  {
   "cell_type": "code",
   "execution_count": 23,
   "id": "5f9a2840",
   "metadata": {},
   "outputs": [
    {
     "name": "stdout",
     "output_type": "stream",
     "text": [
      "The Fuzzy Set B is : {'a': 0.8, 'b': 0.1, 'c': 0.4, 'd': 0.7}\n"
     ]
    }
   ],
   "source": [
    "print(\"The Fuzzy Set B is :\",B)"
   ]
  },
  {
   "cell_type": "markdown",
   "id": "25a3e180",
   "metadata": {},
   "source": [
    "# Union on Fuzzy Sets"
   ]
  },
  {
   "cell_type": "code",
   "execution_count": 24,
   "id": "b6de4e4b",
   "metadata": {},
   "outputs": [
    {
     "name": "stdout",
     "output_type": "stream",
     "text": [
      "Union of set A and B is : {'a': 0.8, 'b': 0.5, 'c': 0.6, 'd': 0.7}\n"
     ]
    }
   ],
   "source": [
    "for A_key,B_key in zip(A,B):\n",
    "    A_value = A[A_key]\n",
    "    B_value = B[B_key]\n",
    "    \n",
    "    if A_value > B_value:\n",
    "        C[A_key] = A_value\n",
    "    else:\n",
    "        C[B_key] = B_value\n",
    "print(\"Union of set A and B is :\" , C)"
   ]
  },
  {
   "cell_type": "code",
   "execution_count": 25,
   "id": "e54cbd80",
   "metadata": {},
   "outputs": [],
   "source": [
    "import numpy as np\n",
    "def fuzzy_union(A, B):\n",
    "    return np.maximum(A, B)"
   ]
  },
  {
   "cell_type": "code",
   "execution_count": 26,
   "id": "2524fc67",
   "metadata": {},
   "outputs": [],
   "source": [
    "x = np.array([0.2, 0.5, 0.6, 0.3])  # Fuzzy set A\n",
    "y = np.array([0.8, 0.1, 0.4, 0.7])  # Fuzzy set B"
   ]
  },
  {
   "cell_type": "code",
   "execution_count": 27,
   "id": "12120b9f",
   "metadata": {},
   "outputs": [
    {
     "name": "stdout",
     "output_type": "stream",
     "text": [
      "[0.8 0.5 0.6 0.7]\n"
     ]
    }
   ],
   "source": [
    "print(fuzzy_union(x,y))"
   ]
  },
  {
   "cell_type": "markdown",
   "id": "1d0a68a0",
   "metadata": {},
   "source": [
    "# Intersection on Fuzzy set"
   ]
  },
  {
   "cell_type": "code",
   "execution_count": 28,
   "id": "a6df5884",
   "metadata": {},
   "outputs": [
    {
     "name": "stdout",
     "output_type": "stream",
     "text": [
      "Intersection of Fuzzy Set A and B is : {'a': 0.2, 'b': 0.1, 'c': 0.4, 'd': 0.3}\n"
     ]
    }
   ],
   "source": [
    "for A_key,B_key in zip(A,B):\n",
    "    A_value = A[A_key]\n",
    "    B_value = B[B_key]\n",
    "    \n",
    "    if A_value < B_value:\n",
    "        C[A_key] = A_value\n",
    "    else:\n",
    "        C[B_key] = B_value\n",
    "print(\"Intersection of Fuzzy Set A and B is :\",C)"
   ]
  },
  {
   "cell_type": "code",
   "execution_count": 32,
   "id": "c8183fa6",
   "metadata": {},
   "outputs": [],
   "source": [
    "def fuzzy_intersection(x,y):\n",
    "    return np.minimum(x,y)"
   ]
  },
  {
   "cell_type": "code",
   "execution_count": 33,
   "id": "04537d85",
   "metadata": {},
   "outputs": [
    {
     "name": "stdout",
     "output_type": "stream",
     "text": [
      "[0.2 0.1 0.4 0.3]\n"
     ]
    }
   ],
   "source": [
    "print(fuzzy_intersection(x,y))"
   ]
  },
  {
   "cell_type": "markdown",
   "id": "380d7e37",
   "metadata": {},
   "source": [
    "# Complement"
   ]
  },
  {
   "cell_type": "code",
   "execution_count": 55,
   "id": "f810e18b",
   "metadata": {},
   "outputs": [],
   "source": [
    "E = {\"a\":0.2,\"b\":0.2,\"c\":0.3,\"d\":0.5}"
   ]
  },
  {
   "cell_type": "code",
   "execution_count": 56,
   "id": "f638ced5",
   "metadata": {},
   "outputs": [],
   "source": [
    "for E_key in E:\n",
    "    C[E_key] = 1 - E[E_key]"
   ]
  },
  {
   "cell_type": "code",
   "execution_count": 57,
   "id": "d8313473",
   "metadata": {},
   "outputs": [
    {
     "name": "stdout",
     "output_type": "stream",
     "text": [
      "Complement of E is :  {'a': 0.8, 'b': 0.8, 'c': 0.7, 'd': 0.5}\n"
     ]
    }
   ],
   "source": [
    "print(\"Complement of E is : \",C)"
   ]
  },
  {
   "cell_type": "code",
   "execution_count": 41,
   "id": "02f97619",
   "metadata": {},
   "outputs": [],
   "source": [
    "def fuzzy_complement(A):\n",
    "    return 1 - A"
   ]
  },
  {
   "cell_type": "code",
   "execution_count": 58,
   "id": "e1df1f39",
   "metadata": {},
   "outputs": [],
   "source": [
    "E = np.array([0.2,0.2,0.7,0.5])"
   ]
  },
  {
   "cell_type": "code",
   "execution_count": 59,
   "id": "5118d87b",
   "metadata": {},
   "outputs": [
    {
     "name": "stdout",
     "output_type": "stream",
     "text": [
      "[0.8 0.8 0.3 0.5]\n"
     ]
    }
   ],
   "source": [
    "print(fuzzy_complement(E))"
   ]
  },
  {
   "cell_type": "markdown",
   "id": "5dcbc3fa",
   "metadata": {},
   "source": [
    "# Difference"
   ]
  },
  {
   "cell_type": "code",
   "execution_count": 64,
   "id": "7b3cdf78",
   "metadata": {},
   "outputs": [],
   "source": [
    "A = {\"a\":0.2,\"b\":0.5,\"c\":0.6,\"d\":0.3}\n",
    "B = {\"a\":0.8,\"b\":0.1,\"c\":0.4,\"d\":0.7}"
   ]
  },
  {
   "cell_type": "code",
   "execution_count": 65,
   "id": "14664135",
   "metadata": {},
   "outputs": [
    {
     "name": "stdout",
     "output_type": "stream",
     "text": [
      "Fuzzy Set Difference is : {'a': 0.19999999999999996, 'b': 0.5, 'c': 0.6, 'd': 0.3}\n"
     ]
    }
   ],
   "source": [
    "for A_key, B_key in zip(A, B):\n",
    "    A_value = A[A_key]\n",
    "    B_value = B[B_key]\n",
    "    B_value = 1 - B_value\n",
    " \n",
    "    if A_value < B_value:\n",
    "        C[A_key] = A_value\n",
    "    else:\n",
    "        C[B_key] = B_value\n",
    "         \n",
    "print('Fuzzy Set Difference is :', C)"
   ]
  },
  {
   "cell_type": "code",
   "execution_count": 68,
   "id": "36206856",
   "metadata": {},
   "outputs": [],
   "source": [
    "def fuzzy_difference(A, B):\n",
    "    return np.maximum(A - B, 0)"
   ]
  },
  {
   "cell_type": "code",
   "execution_count": 69,
   "id": "b898c2d1",
   "metadata": {},
   "outputs": [
    {
     "name": "stdout",
     "output_type": "stream",
     "text": [
      "[0.  0.4 0.2 0. ]\n"
     ]
    }
   ],
   "source": [
    "print(fuzzy_difference(x, y))"
   ]
  },
  {
   "cell_type": "markdown",
   "id": "7eb73232",
   "metadata": {},
   "source": [
    "# creating fuzzy relations by Cartesian product of any two fuzzy sets "
   ]
  },
  {
   "cell_type": "code",
   "execution_count": 70,
   "id": "2ba6f1fa",
   "metadata": {},
   "outputs": [],
   "source": [
    "def fuzzy_cartesian_product(x, y):\n",
    "    # Reshape A and B to 1D arrays\n",
    "    A_1D = A.flatten()\n",
    "    B_1D = B.flatten()\n",
    "    \n",
    "    # Calculate Cartesian product\n",
    "    cartesian_product = np.outer(A_1D, B_1D)\n",
    "    \n",
    "    return cartesian_product"
   ]
  },
  {
   "cell_type": "code",
   "execution_count": 73,
   "id": "275a4463",
   "metadata": {},
   "outputs": [],
   "source": [
    "x = np.array([0.2, 0.5, 0.6, 0.3])  # Fuzzy set A\n",
    "y = np.array([0.8, 0.1, 0.4, 0.7])  # Fuzzy set B"
   ]
  },
  {
   "cell_type": "code",
   "execution_count": 74,
   "id": "098c4ac3",
   "metadata": {},
   "outputs": [
    {
     "name": "stdout",
     "output_type": "stream",
     "text": [
      "[[0.16 0.02 0.08 0.14]\n",
      " [0.4  0.05 0.2  0.35]\n",
      " [0.48 0.06 0.24 0.42]\n",
      " [0.24 0.03 0.12 0.21]]\n"
     ]
    }
   ],
   "source": [
    "print(fuzzy_cartesian_product(x, y))"
   ]
  },
  {
   "cell_type": "markdown",
   "id": "0841f0d7",
   "metadata": {},
   "source": [
    "# perform max-min composition of two fuzzy relations"
   ]
  },
  {
   "cell_type": "code",
   "execution_count": 88,
   "id": "60adfa1f",
   "metadata": {},
   "outputs": [],
   "source": [
    "# Max-min composition on fuzzy relations\n",
    "R = np.array([[0.2, 0.4],\n",
    "              [0.3, 0.5]])  # Fuzzy relation R\n",
    "S = np.array([[0.6, 0.8],\n",
    "              [0.7, 0.9]])  # Fuzzy relation S"
   ]
  },
  {
   "cell_type": "code",
   "execution_count": 91,
   "id": "8f7722ed",
   "metadata": {},
   "outputs": [
    {
     "name": "stdout",
     "output_type": "stream",
     "text": [
      "Max-min Composition of R and S:\n",
      "[[0.4 0.4]\n",
      " [0.5 0.5]]\n"
     ]
    }
   ],
   "source": [
    "import numpy as np\n",
    "\n",
    "# Function to perform max-min composition on two fuzzy relations\n",
    "def max_min_composition(R, S):\n",
    "    composition_matrix = np.zeros((len(R), len(S)))\n",
    "    for i in range(len(R)):\n",
    "        for j in range(len(S)):\n",
    "            composition_matrix[i, j] = max(min(R[i, k], S[k, j]) for k in range(len(R)))\n",
    "    return composition_matrix\n",
    "\n",
    "# Example usage\n",
    "R = np.array([[0.2, 0.4],\n",
    "              [0.3, 0.5]])  # Fuzzy relation R\n",
    "S = np.array([[0.6, 0.8],\n",
    "              [0.7, 0.9]])  # Fuzzy relation S\n",
    "\n",
    "composition_result = max_min_composition(R, S)\n",
    "print(\"Max-min Composition of R and S:\")\n",
    "print(composition_result)\n"
   ]
  },
  {
   "cell_type": "code",
   "execution_count": null,
   "id": "44cdce96",
   "metadata": {},
   "outputs": [],
   "source": []
  }
 ],
 "metadata": {
  "kernelspec": {
   "display_name": "Python 3 (ipykernel)",
   "language": "python",
   "name": "python3"
  },
  "language_info": {
   "codemirror_mode": {
    "name": "ipython",
    "version": 3
   },
   "file_extension": ".py",
   "mimetype": "text/x-python",
   "name": "python",
   "nbconvert_exporter": "python",
   "pygments_lexer": "ipython3",
   "version": "3.11.5"
  }
 },
 "nbformat": 4,
 "nbformat_minor": 5
}
