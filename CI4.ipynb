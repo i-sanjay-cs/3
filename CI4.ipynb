{
 "cells": [
  {
   "cell_type": "code",
   "execution_count": 2,
   "metadata": {},
   "outputs": [],
   "source": [
    "A = dict()\n",
    "B = dict()\n",
    "C = dict()"
   ]
  },
  {
   "cell_type": "code",
   "execution_count": 3,
   "metadata": {},
   "outputs": [],
   "source": [
    "A = {\"a\":1,\"b\":3,\"c\":5}\n",
    "B = {\"a\":2,\"b\":7,\"c\":9}"
   ]
  },
  {
   "cell_type": "code",
   "execution_count": 4,
   "metadata": {},
   "outputs": [],
   "source": [
    "import numpy as np"
   ]
  },
  {
   "cell_type": "code",
   "execution_count": 5,
   "metadata": {},
   "outputs": [],
   "source": [
    "x = np.array([1,3,5])\n",
    "y = np.array([2,7,9])"
   ]
  },
  {
   "cell_type": "code",
   "execution_count": 6,
   "metadata": {},
   "outputs": [
    {
     "name": "stdout",
     "output_type": "stream",
     "text": [
      "The fuzzy set of the A is  {'a': 1, 'b': 3, 'c': 5}\n"
     ]
    }
   ],
   "source": [
    "print(\"The fuzzy set of the A is \",A)\n"
   ]
  },
  {
   "cell_type": "code",
   "execution_count": 7,
   "metadata": {},
   "outputs": [
    {
     "name": "stdout",
     "output_type": "stream",
     "text": [
      "The fuzzy set of the B is  {'a': 2, 'b': 7, 'c': 9}\n"
     ]
    }
   ],
   "source": [
    "print(\"The fuzzy set of the B is \",B)"
   ]
  },
  {
   "cell_type": "markdown",
   "metadata": {},
   "source": [
    "# Union"
   ]
  },
  {
   "cell_type": "code",
   "execution_count": 8,
   "metadata": {},
   "outputs": [
    {
     "name": "stdout",
     "output_type": "stream",
     "text": [
      "Union of the A and B set is: {'a': 2, 'b': 7, 'c': 9}\n"
     ]
    }
   ],
   "source": [
    "for A_Key,B_Key in zip(A,B):\n",
    "    A_value = A[A_Key]\n",
    "    B_value = B[B_Key]\n",
    "    \n",
    "    if A_value > B_value:\n",
    "        C[A_key] = A_value\n",
    "    else:\n",
    "        C[A_Key] = B_value\n",
    "\n",
    "print(\"Union of the A and B set is:\",C)"
   ]
  },
  {
   "cell_type": "code",
   "execution_count": 9,
   "metadata": {},
   "outputs": [
    {
     "name": "stdout",
     "output_type": "stream",
     "text": [
      "Union of the x and y set is: [2 7 9]\n"
     ]
    }
   ],
   "source": [
    "def Fuzzy_Union(x,y):\n",
    "    return np.maximum(x,y)\n",
    "print(\"Union of the x and y set is:\",Fuzzy_Union(x,y))"
   ]
  },
  {
   "cell_type": "markdown",
   "metadata": {},
   "source": [
    "# Intersection"
   ]
  },
  {
   "cell_type": "code",
   "execution_count": 10,
   "metadata": {},
   "outputs": [
    {
     "name": "stdout",
     "output_type": "stream",
     "text": [
      "Intersection of the A and B set is: {'a': 1, 'b': 3, 'c': 5}\n"
     ]
    }
   ],
   "source": [
    "for A_Key,B_Key in zip(A,B):\n",
    "    A_value = A[A_Key]\n",
    "    B_value = B[B_Key]\n",
    "    \n",
    "    if A_value < B_value:\n",
    "        C[A_Key] = A_value\n",
    "    else:\n",
    "        C[B_Key] = B_value\n",
    "\n",
    "print(\"Intersection of the A and B set is:\",C)  "
   ]
  },
  {
   "cell_type": "code",
   "execution_count": 11,
   "metadata": {},
   "outputs": [
    {
     "name": "stdout",
     "output_type": "stream",
     "text": [
      "Intersection of the x and y set is: [1 3 5]\n"
     ]
    }
   ],
   "source": [
    "def Fuzzy_intersection(A,B):\n",
    "    return np.minimum(A,B)\n",
    "print(\"Intersection of the x and y set is:\",Fuzzy_intersection(x,y))"
   ]
  },
  {
   "cell_type": "markdown",
   "metadata": {},
   "source": [
    "# Complement"
   ]
  },
  {
   "cell_type": "code",
   "execution_count": 12,
   "metadata": {},
   "outputs": [
    {
     "name": "stdout",
     "output_type": "stream",
     "text": [
      "Intersection of the set a is :  {'a': 0, 'b': -2, 'c': -4}\n"
     ]
    }
   ],
   "source": [
    "for A_Key in A:\n",
    "    C[A_Key] = 1 - C[A_Key]\n",
    "\n",
    "print(\"Intersection of the set a is : \",C)"
   ]
  },
  {
   "cell_type": "code",
   "execution_count": 13,
   "metadata": {},
   "outputs": [
    {
     "name": "stdout",
     "output_type": "stream",
     "text": [
      "Intersection of the set x is :  [ 0 -2 -4]\n"
     ]
    }
   ],
   "source": [
    "def complement(x):\n",
    "    return 1 - x\n",
    "print(\"Intersection of the set x is : \",complement(x))"
   ]
  },
  {
   "cell_type": "markdown",
   "metadata": {},
   "source": [
    "# Difference"
   ]
  },
  {
   "cell_type": "code",
   "execution_count": 14,
   "metadata": {},
   "outputs": [
    {
     "name": "stdout",
     "output_type": "stream",
     "text": [
      "Differnce of set A and B is  :  {'a': -1, 'b': -6, 'c': -8}\n"
     ]
    }
   ],
   "source": [
    "for A_Key,B_Key in zip(A,B):\n",
    "    A_value = A[A_Key]\n",
    "    B_value = B[B_Key]\n",
    "    B_value = 1 - B_value\n",
    "    \n",
    "    if A_value < B_value:\n",
    "        C[A_Key] = A_value\n",
    "    else:\n",
    "        C[B_Key] = B_value\n",
    "\n",
    "print(\"Differnce of set A and B is  : \",C)"
   ]
  },
  {
   "cell_type": "code",
   "execution_count": 15,
   "metadata": {},
   "outputs": [
    {
     "name": "stdout",
     "output_type": "stream",
     "text": [
      "Differnce of set x and y is : [-1 -6 -8]\n"
     ]
    }
   ],
   "source": [
    "def differ(x,y):\n",
    "    return np.minimum(x,1-y)\n",
    "print(\"Differnce of set x and y is :\",differ(x,y))"
   ]
  },
  {
   "cell_type": "markdown",
   "metadata": {},
   "source": [
    "# Cartesian Product"
   ]
  },
  {
   "cell_type": "code",
   "execution_count": 16,
   "metadata": {},
   "outputs": [
    {
     "name": "stdout",
     "output_type": "stream",
     "text": [
      "[2, 7, 9, 6, 21, 27, 10, 35, 45]\n"
     ]
    }
   ],
   "source": [
    "\n",
    "cartesian_product = []\n",
    "for A_key, A_value in A.items():\n",
    "    for B_key, B_value in B.items():\n",
    "        cartesian_product.append(A_value * B_value)\n",
    "\n",
    "print(cartesian_product)"
   ]
  },
  {
   "cell_type": "code",
   "execution_count": 17,
   "metadata": {},
   "outputs": [
    {
     "name": "stdout",
     "output_type": "stream",
     "text": [
      "[[ 2  7  9]\n",
      " [ 6 21 27]\n",
      " [10 35 45]]\n"
     ]
    }
   ],
   "source": [
    "# Function to create fuzzy relation by Cartesian product of two fuzzy sets\n",
    "def cartesian_product(A, B):\n",
    "  return np.outer(A, B)\n",
    "print(cartesian_product(x,y))"
   ]
  },
  {
   "cell_type": "markdown",
   "metadata": {},
   "source": [
    "# min max composition"
   ]
  },
  {
   "cell_type": "code",
   "execution_count": 48,
   "metadata": {},
   "outputs": [],
   "source": [
    "A = {\"a\":1,\"b\":3}\n",
    "B = {\"a\":2,\"b\":7}"
   ]
  },
  {
   "cell_type": "code",
   "execution_count": 49,
   "metadata": {},
   "outputs": [
    {
     "name": "stdout",
     "output_type": "stream",
     "text": [
      "Max-min Composition of A and B: {'a': {'a': 1, 'b': 1}, 'b': {'a': 2, 'b': 3}}\n"
     ]
    }
   ],
   "source": [
    "def max_min_composition(A, B):\n",
    "    composition_matrix = {}\n",
    "    for a_key, a_value in A.items():\n",
    "        composition_matrix[a_key] = {}\n",
    "        for b_key, b_value in B.items():\n",
    "            min_value = min(a_value, b_value)\n",
    "            composition_matrix[a_key][b_key] = min_value\n",
    "    return composition_matrix\n",
    "\n",
    "print(\"Max-min Composition of A and B:\",max_min_composition(A,B))\n"
   ]
  },
  {
   "cell_type": "code",
   "execution_count": 22,
   "metadata": {},
   "outputs": [],
   "source": [
    "x = np.array([1,3])\n",
    "y = np.array([2,7])"
   ]
  },
  {
   "cell_type": "code",
   "execution_count": 24,
   "metadata": {},
   "outputs": [
    {
     "name": "stdout",
     "output_type": "stream",
     "text": [
      "Max-min Composition of R and S:\n",
      "[[0.4 0.4]\n",
      " [0.5 0.5]]\n"
     ]
    }
   ],
   "source": [
    "import numpy as np\n",
    "\n",
    "# Function to perform max-min composition on two fuzzy relations\n",
    "def max_min_composition(R, S):\n",
    "    composition_matrix = np.zeros((len(R), len(S)))\n",
    "    for i in range(len(R)):\n",
    "        for j in range(len(S)):\n",
    "            composition_matrix[i, j] = max(min(R[i, k], S[k, j]) for k in range(len(R)))\n",
    "    return composition_matrix\n",
    "\n",
    "# Example usage\n",
    "R = np.array([[0.2, 0.4],\n",
    "              [0.3, 0.5]])  # Fuzzy relation R\n",
    "S = np.array([[0.6, 0.8],\n",
    "              [0.7, 0.9]])  # Fuzzy relation S\n",
    "\n",
    "composition_result = max_min_composition(R, S)\n",
    "print(\"Max-min Composition of R and S:\")\n",
    "print(composition_result)\n"
   ]
  },
  {
   "cell_type": "code",
   "execution_count": null,
   "metadata": {},
   "outputs": [],
   "source": []
  }
 ],
 "metadata": {
  "kernelspec": {
   "display_name": "Python 3",
   "language": "python",
   "name": "python3"
  },
  "language_info": {
   "codemirror_mode": {
    "name": "ipython",
    "version": 3
   },
   "file_extension": ".py",
   "mimetype": "text/x-python",
   "name": "python",
   "nbconvert_exporter": "python",
   "pygments_lexer": "ipython3",
   "version": "3.10.6"
  }
 },
 "nbformat": 4,
 "nbformat_minor": 2
}
